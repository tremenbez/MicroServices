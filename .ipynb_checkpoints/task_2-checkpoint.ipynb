{
 "cells": [
  {
   "cell_type": "markdown",
   "id": "e6c1317e-a558-49e8-8ac8-d7124e5bfa6d",
   "metadata": {},
   "source": [
    "## 1 - Палиндром"
   ]
  },
  {
   "cell_type": "raw",
   "id": "a2916cee-1056-4eaa-8e09-8ed38989e27d",
   "metadata": {},
   "source": [
    "1.\tНаписать функцию, которая проверяет является ли строка палиндромом."
   ]
  },
  {
   "cell_type": "code",
   "execution_count": 327,
   "id": "000fddb0-e022-4533-9d29-77773611a92a",
   "metadata": {},
   "outputs": [],
   "source": [
    "# Определяем функцию \n",
    "def check_palindrom(x:str) -> bool:\n",
    "    x1 = x.replace(\" \", \"\").lower()\n",
    "    return x1 == x1[::-1]"
   ]
  },
  {
   "cell_type": "code",
   "execution_count": 329,
   "id": "e26e6497-d87a-4c4f-b46b-7f191a0b5af7",
   "metadata": {},
   "outputs": [
    {
     "data": {
      "text/plain": [
       "True"
      ]
     },
     "execution_count": 329,
     "metadata": {},
     "output_type": "execute_result"
    }
   ],
   "source": [
    "# Проверка\n",
    "ex_1 = \"Леша на полке клопа нашел\"\n",
    "check_palindrom(ex_1)"
   ]
  },
  {
   "cell_type": "markdown",
   "id": "ea1cfe75-0653-4eed-9d64-e0728fe9fe59",
   "metadata": {},
   "source": [
    "## 2 - Фильтрация"
   ]
  },
  {
   "cell_type": "raw",
   "id": "221ac539-1bba-4816-8996-412393714ded",
   "metadata": {},
   "source": [
    "2.\tНаписать функцию, которая принимает два аргумента: лямбда функция для фильтрации массива, массив строк. Сделать вызов данной функции для следующих функций фильтрации: \n",
    "•\tИсключить строки с пробелами\n",
    "•\tИсключить строки, начинающиеся с буквы “a”\n",
    "•\tИсключить строки, длина которых меньше 5\n"
   ]
  },
  {
   "cell_type": "code",
   "execution_count": 332,
   "id": "d7c6a27b-7f67-4505-bfcd-fe062b9874be",
   "metadata": {},
   "outputs": [],
   "source": [
    "def filter_strings(filter_func, strings):\n",
    "    return list(filter(filter_func, strings))\n",
    "\n",
    "# Фильтрации\n",
    "no_spaces = lambda s: \" \" not in s\n",
    "no_a_start = lambda s: not s.startswith(\"a\")\n",
    "length_ge_5 = lambda s: len(s) >= 5"
   ]
  },
  {
   "cell_type": "code",
   "execution_count": 333,
   "id": "852b889d-67cc-4b0a-b6a4-b37af1fb9dcb",
   "metadata": {},
   "outputs": [
    {
     "name": "stdout",
     "output_type": "stream",
     "text": [
      "Без пробелов: ['apple', 'banana', 'dog', 'hello', 'a']\n",
      "Не начинается с 'a': ['banana', 'dog', 'hello']\n",
      "Длина >= 5: ['apple', 'banana', 'a cat', 'hello']\n"
     ]
    }
   ],
   "source": [
    "# Пример фильтрации строк\n",
    "strings = [\"apple\", \"banana\", \"a cat\", \"dog\", \"hello\", \"a\"]\n",
    "print(\"Без пробелов:\", filter_strings(no_spaces, strings))\n",
    "print(\"Не начинается с 'a':\", filter_strings(no_a_start, strings))\n",
    "print(\"Длина >= 5:\", filter_strings(length_ge_5, strings))"
   ]
  },
  {
   "cell_type": "markdown",
   "id": "71612a65-ee51-4903-93be-62be0972cad2",
   "metadata": {},
   "source": [
    "## 3 - Геометрия"
   ]
  },
  {
   "cell_type": "raw",
   "id": "e5c3bf29-c108-4191-9dc6-bc96ddc35fd7",
   "metadata": {},
   "source": [
    "3.\tСоздать иерархию классов Фигур: квадрат, прямоугольник, треугольник, круг. Каждый класс должен реализовывать следующие методы:\n",
    "•\tвычисление площади\n",
    "•\tвычисление периметра\n",
    "•\tсравнение площади с другой фигурой (больше или меньше)\n",
    "•\tсравнение периметра с другой фигурой (больше или меньше)\n"
   ]
  },
  {
   "cell_type": "code",
   "execution_count": 337,
   "id": "def113d5-2d65-4fe7-92b2-6521374c82c3",
   "metadata": {},
   "outputs": [],
   "source": [
    "from math import pi, sqrt"
   ]
  },
  {
   "cell_type": "code",
   "execution_count": 339,
   "id": "5e6678d7-9144-43aa-bafd-db6c07cf3230",
   "metadata": {},
   "outputs": [],
   "source": [
    "class Figure:\n",
    "    def area(self):\n",
    "        pass\n",
    "    \n",
    "    def perimeter(self):\n",
    "        pass\n",
    "    \n",
    "    def compare_area(self, other):\n",
    "        return self.area() - other.area()\n",
    "    \n",
    "    def compare_perimeter(self, other):\n",
    "        return self.perimeter() - other.perimeter()"
   ]
  },
  {
   "cell_type": "code",
   "execution_count": 341,
   "id": "87478e9d-28fa-4a7d-be6e-acf43bda8e9b",
   "metadata": {},
   "outputs": [],
   "source": [
    "class Square(Figure):\n",
    "    def __init__(self, side):\n",
    "        self.side = side\n",
    "    \n",
    "    def area(self):\n",
    "        return self.side ** 2\n",
    "    \n",
    "    def perimeter(self):\n",
    "        return 4 * self.side\n",
    "\n",
    "class Rectangle(Figure):\n",
    "    def __init__(self, width, height):\n",
    "        self.width = width\n",
    "        self.height = height\n",
    "    \n",
    "    def area(self):\n",
    "        return self.width * self.height\n",
    "    \n",
    "    def perimeter(self):\n",
    "        return 2 * (self.width + self.height)\n",
    "\n",
    "class Triangle(Figure):\n",
    "    def __init__(self, a, b, c):\n",
    "        self.a = a\n",
    "        self.b = b\n",
    "        self.c = c\n",
    "    \n",
    "    def area(self):\n",
    "        s = (self.a + self.b + self.c) / 2\n",
    "        return sqrt(s * (s - self.a) * (s - self.b) * (s - self.c))\n",
    "    \n",
    "    def perimeter(self):\n",
    "        return self.a + self.b + self.c\n",
    "\n",
    "class Circle(Figure):\n",
    "    def __init__(self, radius):\n",
    "        self.radius = radius\n",
    "    \n",
    "    def area(self):\n",
    "        return pi * self.radius ** 2\n",
    "    \n",
    "    def perimeter(self):\n",
    "        return 2 * pi * self.radius"
   ]
  },
  {
   "cell_type": "code",
   "execution_count": 343,
   "id": "f9aea27d-ebbc-438b-a250-91e093bd7a2b",
   "metadata": {},
   "outputs": [
    {
     "name": "stdout",
     "output_type": "stream",
     "text": [
      "Площадь квадрата: 16\n",
      "Площадь круга: 28.274333882308138\n",
      "Разница площадей (квадрат - круг): -12.274333882308138\n",
      "\n",
      "Площадь прямоугольника: 20\n",
      "Площадь треугольника: 6.0\n",
      "Разница площадей (прямоугольник - треугольник): 14.0\n"
     ]
    }
   ],
   "source": [
    "# Примеры сравнения площадей\n",
    "square = Square(4)\n",
    "circle = Circle(3)\n",
    "\n",
    "rectangle = Rectangle(4, 5)\n",
    "triangle = Triangle(3, 4, 5)\n",
    "\n",
    "print(f\"Площадь квадрата: {square.area()}\")\n",
    "print(f\"Площадь круга: {circle.area()}\")\n",
    "print(f\"Разница площадей (квадрат - круг): {square.compare_area(circle)}\\n\")\n",
    "\n",
    "print(f\"Площадь прямоугольника: {rectangle.area()}\")\n",
    "print(f\"Площадь треугольника: {triangle.area()}\")\n",
    "print(f\"Разница площадей (прямоугольник - треугольник): {rectangle.compare_area(triangle)}\")"
   ]
  },
  {
   "cell_type": "markdown",
   "id": "28487d35-0ad8-4d4a-ab74-5c2d9e460161",
   "metadata": {},
   "source": [
    "## 4 - Идем в институт"
   ]
  },
  {
   "cell_type": "raw",
   "id": "0fd5d1fe-00b1-495e-b94e-6acde3562ade",
   "metadata": {},
   "source": [
    "4.\tСоздать классы студент, аспирант. Студент содержит свойства: номер группы, средний балл. Аспирант отличается от студента наличием научной работы (название работы в виде строки). Реализовать в классах следующие методы: \n",
    "•\tвывести информацию о человеке (фио, возраст)\n",
    "•\tвывести размер стипендии. Если средняя оценка равна 5, то стипендия 8000р для аспиранта и 6000р для студента, если меньше 5, то стипендия для аспиранта 6000р, для студента 4000р, в других случаях стипендия 0р\n",
    "•\tСравнение размера стипендии с другим студентом/аспирантом (больше или меньше)\n"
   ]
  },
  {
   "cell_type": "code",
   "execution_count": 346,
   "id": "35a4d0cb-d1ee-44aa-8267-00163179ae48",
   "metadata": {},
   "outputs": [],
   "source": [
    "class Student:\n",
    "    def __init__(self, name: str, surname: str, middlename: str, age: int, group_id: str, avg_score: float):\n",
    "        self.name = name\n",
    "        self.surname = surname\n",
    "        self.middlename = middlename\n",
    "        self.age = age\n",
    "        self.group_id = group_id\n",
    "        self.avg_score = avg_score\n",
    "\n",
    "    def fio(self):\n",
    "        return f\"Данный пользователь: {self.surname} {self.name} {self.middlename}. Возраст: {self.age} г.\"   \n",
    "\n",
    "    def stipendia(self):\n",
    "        if self.avg_score == 5:\n",
    "            return 6000 \n",
    "        elif 3.5 <= self.avg_score < 5:\n",
    "            return 4000\n",
    "        return 0\n",
    "\n",
    "    def compare_stipend(self, other):\n",
    "        return self.stipendia() - other.stipendia()"
   ]
  },
  {
   "cell_type": "code",
   "execution_count": 348,
   "id": "f72bd543-d9b7-4e49-b67b-9ee6d0343a1c",
   "metadata": {},
   "outputs": [],
   "source": [
    "kostya = Student(\"Константин\", \"Безверхий\", \"Андреевич\", 22, \"5142704/40801\", 4.5)"
   ]
  },
  {
   "cell_type": "code",
   "execution_count": 350,
   "id": "5eb1d24d-51e0-4d0b-83c8-983d5d2269fe",
   "metadata": {},
   "outputs": [
    {
     "data": {
      "text/plain": [
       "'Данный пользователь: Безверхий Константин Андреевич. Возраст: 22 г.'"
      ]
     },
     "execution_count": 350,
     "metadata": {},
     "output_type": "execute_result"
    }
   ],
   "source": [
    "kostya.fio()"
   ]
  },
  {
   "cell_type": "code",
   "execution_count": 352,
   "id": "376eb62a-83c1-4368-8607-4b31c6cf0c35",
   "metadata": {},
   "outputs": [
    {
     "data": {
      "text/plain": [
       "4000"
      ]
     },
     "execution_count": 352,
     "metadata": {},
     "output_type": "execute_result"
    }
   ],
   "source": [
    "kostya.stipendia()"
   ]
  },
  {
   "cell_type": "code",
   "execution_count": 354,
   "id": "8ccaff2e-4cb7-4b15-a815-5da1f1265188",
   "metadata": {},
   "outputs": [],
   "source": [
    "class Aspirant(Student):\n",
    "    def __init__ (self, name: str, surname: str, middlename: str, age: int, group_id: str, avg_score: float, work:str):\n",
    "        super().__init__(name, surname, middlename, age, group_id, avg_score)\n",
    "        self.work = work\n",
    "        \n",
    "    def written(self):\n",
    "        return f\"Написал научную статью на тему '{self.work}'\"\n",
    "    \n",
    "    def stipendia(self):\n",
    "        if self.avg_score == 5:\n",
    "            return 8000\n",
    "        elif 3.5 <= self.avg_score < 5:\n",
    "            return 6000 \n",
    "        return 0"
   ]
  },
  {
   "cell_type": "code",
   "execution_count": 356,
   "id": "5aee99b6-28bc-47fe-8674-74e56f5b88b3",
   "metadata": {},
   "outputs": [],
   "source": [
    "denis = Aspirant(\"Денис\", \"Лопухин\", \"Васильевич\", 31, \"522604/40801\", 3.5, 'Молекулярные грибы')"
   ]
  },
  {
   "cell_type": "code",
   "execution_count": 358,
   "id": "472bbb1c-c4da-4ca7-b2a3-1c58b0ff89a8",
   "metadata": {},
   "outputs": [
    {
     "data": {
      "text/plain": [
       "\"Написал научную статью на тему 'Молекулярные грибы'\""
      ]
     },
     "execution_count": 358,
     "metadata": {},
     "output_type": "execute_result"
    }
   ],
   "source": [
    "denis.written()"
   ]
  },
  {
   "cell_type": "code",
   "execution_count": 360,
   "id": "d4dd0a36-3deb-4c08-a6e2-619d8427de84",
   "metadata": {},
   "outputs": [
    {
     "data": {
      "text/plain": [
       "6000"
      ]
     },
     "execution_count": 360,
     "metadata": {},
     "output_type": "execute_result"
    }
   ],
   "source": [
    "denis.stipendia()"
   ]
  },
  {
   "cell_type": "code",
   "execution_count": 362,
   "id": "ab4feb95-2643-4e3f-8a98-072f5260e6f4",
   "metadata": {},
   "outputs": [
    {
     "data": {
      "text/plain": [
       "2000"
      ]
     },
     "execution_count": 362,
     "metadata": {},
     "output_type": "execute_result"
    }
   ],
   "source": [
    "denis.compare_stipend(kostya)"
   ]
  },
  {
   "cell_type": "markdown",
   "id": "106e68f5-991b-42ce-8410-092acca4d00e",
   "metadata": {},
   "source": [
    "## 5 - Last one"
   ]
  },
  {
   "cell_type": "raw",
   "id": "40001728-972f-4545-a8ed-3f84ad23982c",
   "metadata": {},
   "source": [
    "1.\tРеализовать декоратор, который выводит в консоль время выполнения декорируемой функции. Протестировать работу декоратора на двух функциях:\n",
    "•\tФункция вычисляет сумму двух чисел a и b, выводит результат в консоль\n",
    "•\tФункция читает из файла input.txt значение двух чисел a и b, записывает результат вычисления в файл output.txt (файлы приложить к репозиторию)\n"
   ]
  },
  {
   "cell_type": "code",
   "execution_count": 1,
   "id": "df610ced-0197-4f9f-a84f-af98bb1fb1b5",
   "metadata": {},
   "outputs": [],
   "source": [
    "import time"
   ]
  },
  {
   "cell_type": "code",
   "execution_count": 3,
   "id": "02aae211-5182-4499-ad41-8bc52cf95b4d",
   "metadata": {},
   "outputs": [],
   "source": [
    "def timing_decorator(func):\n",
    "    def wrapper(*args, **kwargs):\n",
    "        start_time = time.time() \n",
    "        result = func(*args, **kwargs)\n",
    "        end_time = time.time()  \n",
    "        elapsed_time = end_time - start_time\n",
    "        print(f\"Функция {func.__name__} выполнена за {elapsed_time:.5f} секунд\")\n",
    "        return result\n",
    "    return wrapper"
   ]
  },
  {
   "cell_type": "code",
   "execution_count": 27,
   "id": "db3af078-e180-45f2-9431-13f3aa4ddfca",
   "metadata": {},
   "outputs": [],
   "source": [
    "@timing_decorator\n",
    "def add(a,b):\n",
    "    return a+b"
   ]
  },
  {
   "cell_type": "code",
   "execution_count": 29,
   "id": "59525a24-3870-4327-930e-c1680668f74a",
   "metadata": {},
   "outputs": [
    {
     "name": "stdout",
     "output_type": "stream",
     "text": [
      "Функция add выполнена за 0.00000 секунд\n"
     ]
    },
    {
     "data": {
      "text/plain": [
       "3226"
      ]
     },
     "execution_count": 29,
     "metadata": {},
     "output_type": "execute_result"
    }
   ],
   "source": [
    "add(4,3222)"
   ]
  },
  {
   "cell_type": "code",
   "execution_count": 37,
   "id": "0a00515c-c779-4de9-a3b9-26f15b8d3c6e",
   "metadata": {},
   "outputs": [],
   "source": [
    "@timing_decorator\n",
    "def file():\n",
    "    with open(\"input.txt\", \"r\") as f:\n",
    "        a, b = map(int, f.read().split())\n",
    "    result = a + b\n",
    "    with open(\"output.txt\", \"w\") as f:\n",
    "        f.write(str(result))\n",
    "    print(\"Результат записан в output.txt\")"
   ]
  },
  {
   "cell_type": "code",
   "execution_count": 41,
   "id": "8d8b4227-c55f-41cf-9ede-91404e678e9f",
   "metadata": {},
   "outputs": [
    {
     "name": "stdout",
     "output_type": "stream",
     "text": [
      "Результат записан в output.txt\n",
      "Функция file выполнена за 0.00100 секунд\n"
     ]
    }
   ],
   "source": [
    "file()"
   ]
  },
  {
   "cell_type": "code",
   "execution_count": null,
   "id": "6631cef3-aaf8-4b39-b09a-ba2d9390d3ce",
   "metadata": {},
   "outputs": [],
   "source": []
  }
 ],
 "metadata": {
  "kernelspec": {
   "display_name": "Python 3 (ipykernel)",
   "language": "python",
   "name": "python3"
  },
  "language_info": {
   "codemirror_mode": {
    "name": "ipython",
    "version": 3
   },
   "file_extension": ".py",
   "mimetype": "text/x-python",
   "name": "python",
   "nbconvert_exporter": "python",
   "pygments_lexer": "ipython3",
   "version": "3.12.4"
  }
 },
 "nbformat": 4,
 "nbformat_minor": 5
}
